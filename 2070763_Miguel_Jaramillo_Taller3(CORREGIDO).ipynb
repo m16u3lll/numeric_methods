{
 "cells": [
  {
   "cell_type": "markdown",
   "metadata": {},
   "source": [
    "<h2 style=\"text-align:center\"><span style=\"font-family:Times New Roman,Times,serif\">Métodos Numericos, Taller 3</span></h2>\n",
    "\n",
    "<h1 style=\"text-align:center\"><span style=\"font-family:Times New Roman,Times,serif\">Solución de ecuaciones no lineales</span></h1>\n",
    "\n",
    "<p style=\"text-align:center\"><span style=\"font-family:Times New Roman,Times,serif\">Universidad del Valle, Departamento de f&iacute;sica, Cali, Colombia</span></p>\n",
    "\n",
    "<h3 style=\"text-align:center\"><span style=\"font-family:Times New Roman,Times,serif\">Miguel &Aacute;ngel Jaramillo Quengu&aacute;n</span></h3>\n",
    "\n",
    "<p style=\"text-align:center\"><span style=\"font-family:Times New Roman,Times,serif\">Codigo: 2070763</span></p>\n",
    "\n",
    "<p style=\"text-align:center\"><span style=\"font-family:Courier New,Courier,monospace\"><a href=\"mailto:miguel.quenguan@correounivalle.edu.co\">miguel.quenguan@correounivalle.edu.co</a></span></p>\n",
    "\n",
    "<p style=\"text-align:center\">Presentado a Miguel Angel Vargas</p>"
   ]
  },
  {
   "cell_type": "code",
   "execution_count": 2,
   "metadata": {},
   "outputs": [],
   "source": [
    "#importando paquetes\n",
    "import numpy as np \n",
    "import matplotlib.pyplot as plt \n",
    "import pandas as pd\n",
    "import seaborn as sns\n",
    "from numpy.ma.core import size\n",
    "\n",
    "sns.set_theme(style=\"darkgrid\")"
   ]
  },
  {
   "cell_type": "markdown",
   "metadata": {},
   "source": [
    "# Ejercicio 1: Situación problema (solucion de ecuación no Lineal)"
   ]
  },
  {
   "cell_type": "markdown",
   "metadata": {},
   "source": [
    "Considere la siguiente situacion problema, teniendo en cuenta la ecuación de estado de van der Walls:\n",
    "\n",
    "$$ (P+\\frac{a}{\\bar{V}^2})(\\bar{V}-b)=RT \\ \\ \\ \\ \\ \\ \\ \\ \\ (1)$$ \n",
    "\n",
    "Se debe calcular el columen específico de V de dioxido de carbono a temperatura de $T=300 K$, dado $P=1.0$atm, $R=0.082054 \\frac{J}{Kg\\cdot K}, a=3.592 Pa\\cdot \\frac{m^6}{Kg^2}, b=0.042627 \\frac{m^3}{Kg}$\n",
    "\n",
    "**a.** Determine la funcíon a la cual se le debe calcular la primera raiz positiva para solucionar el problema.\n",
    "\n",
    "**b.** Grafique la función en un dominio de los reales positivos de modo que se visualice la primera raiz positiva."
   ]
  },
  {
   "cell_type": "markdown",
   "metadata": {},
   "source": [
    "## **a.** determinando la función para calcular la solucion del problema.\n",
    "\n",
    "Desde la ecuacion (1) igualando a 0 obtenemos la exprecion:\n",
    "\n",
    "$$(P+\\frac{a}{\\bar{V}^2})(\\bar{V}-b)-RT=0$$\n",
    "\n",
    "Por esto definimos la funcion $f(V)$ como:\n",
    "\n",
    "$$f(V)=(P+\\frac{a}{\\bar{V}^2})(\\bar{V}-b)-RT$$\n",
    "\n",
    "La solucion de la ecuacion tendra lugar para $f(V)=0$"
   ]
  },
  {
   "cell_type": "markdown",
   "metadata": {},
   "source": [
    "## graficando la función (f(V))"
   ]
  },
  {
   "cell_type": "code",
   "execution_count": 3,
   "metadata": {},
   "outputs": [
    {
     "data": {
      "image/png": "[encoded data removed]",
      "text/plain": [
       "<Figure size 432x288 with 1 Axes>"
      ]
     },
     "metadata": {
      "needs_background": "light"
     },
     "output_type": "display_data"
    }
   ],
   "source": [
    "def SEvw(T,P,V,a,b): # definimos la ecuacion de estado de van der walls\n",
    "    f=(P + a/(V**2))*(V-b)-0.082054*T\n",
    "    return f\n",
    "\n",
    "# evaluamos las condiciones de nuestro problema especifico\n",
    "T=300.0\n",
    "P=1.0\n",
    "a=3.592\n",
    "b=0.04267\n",
    "V=np.linspace(-10,30,180)\n",
    "fv=SEvw(T,P,V,a,b)\n",
    "plt.plot(V,fv,linewidth=2.0)\n",
    "plt.axis('equal')\n",
    "plt.grid()\n",
    "plt.title('funcion f(v)')\n",
    "plt.axhline(y=0, c=\"black\", linewidth=1.0)\n",
    "plt.show()    "
   ]
  },
  {
   "cell_type": "markdown",
   "metadata": {},
   "source": [
    "# Ejercicio 2: Método de Biseccion"
   ]
  },
  {
   "cell_type": "markdown",
   "metadata": {},
   "source": [
    "Presente una breve explicación teórica del metodo de la Biseccion y desarrolle un código en python que implemente el método para solucionar el problema del ejercicio 1 y cumpla con:\n",
    "\n",
    "**a.** Usted puede elegir libremente el intervalo inicial\n",
    "\n",
    "**b.** Las condiciones de parada son: obtener un error absoluto de las aproximaciones sucesivas menor a $10^{-6}$ o realizar 100 iteraciones.\n",
    "\n",
    "**c.** Debe imprimir cada una de las aproximaciones de la ráizobtenidas en cada paso.\n",
    "\n",
    "**d.** Debe guardar en una lista todos los errores absolutos en las iteraciones"
   ]
  },
  {
   "cell_type": "markdown",
   "metadata": {},
   "source": [
    "### metodo de la bisección"
   ]
  },
  {
   "cell_type": "markdown",
   "metadata": {},
   "source": [
    "Para el metodo es necesario que la funcion tenga un cambio de signo en un intervalo conocido $[a,b]$, dada la funcion $f$ continua esta debe ser cero en algun punto dentro del intervalo (bracket).\n",
    "\n",
    "El metodo de la biseccion empieza con un bracket inicial y sucesivamente reduce su longitud hasta que la solucion a sido aislada con la precision deseada. En cada iteracion para aislar el bracket la funcion es evaluada en el punto medio del intervalo actual y una mitad del intervalo puede ser descartada, dependiendo del signo del valor de la función en el punto medio esta es la condicion para que el nuevo intervalo contenga a la solución. La expresion para el punto medio del intervalo $(c)$ esta dada por: $c=\\frac{a+b}{2}$\n",
    "\n",
    "este metodo es un metodo de acotamiento de la funcion por tanto no se encuentra la solucion exacta, si no que tenemos un intervalo suficientemente pequeño $(|| a-b ||<\\epsilon : \\epsilon>0 )$ donde esta la solucion. "
   ]
  },
  {
   "cell_type": "code",
   "execution_count": 4,
   "metadata": {},
   "outputs": [],
   "source": [
    "def prlm(V): # reducimos los parametros de la ecuacion general\n",
    "    f=(1 + 3.592/(V**2))*(V-0.04267)-0.082054*300\n",
    "    return f"
   ]
  },
  {
   "cell_type": "code",
   "execution_count": 5,
   "metadata": {},
   "outputs": [],
   "source": [
    "# metodo de la biseccion\n",
    "def MB(f,a,b,Tol): #la funcion de metodo de biseccion tiene como input una funcion f, un intervalo a,b y una tolerancia Tol\n",
    "    tol_list=[]\n",
    "    k=1\n",
    "    it=0\n",
    "    sols=[]\n",
    "    tol=np.abs(a-b)/2**k\n",
    "    x1,x2=a,b\n",
    "    while Tol<tol and it<100:\n",
    "        it+=1\n",
    "        tol=np.abs(x1-x2)/2**k\n",
    "        tol_list.append(tol)\n",
    "        k=k+1\n",
    "\n",
    "        if f(a)*f(b)<0: #condicion para que el intervalo inicial contenga la solucion del sistema\n",
    "            x12=(x1+x2)/2\n",
    "            y1,y2,y12=f(x1),f(x2),f(x12)\n",
    "            sols.append(x12)\n",
    "            if y1*y12<0:# condicion para que el punto medio contenga la solucion\n",
    "                x2=x12 # re evaluando los limites del bracket\n",
    "            else:\n",
    "                x1=x12\n",
    "        else:\n",
    "            print(f'La ecuacion no tiene solucion en el intervalo') \n",
    "            break\n",
    "    \n",
    "    return x1,x2,tol_list,sols"
   ]
  },
  {
   "cell_type": "code",
   "execution_count": 6,
   "metadata": {},
   "outputs": [
    {
     "name": "stdout",
     "output_type": "stream",
     "text": [
      " lista de error:[5.0, 1.25, 0.3125, 0.078125, 0.01953125, 0.0048828125, 0.001220703125, 0.00030517578125, 7.62939453125e-05, 1.9073486328125e-05, 4.76837158203125e-06, 1.1920928955078125e-06, 2.980232238769531e-07]\n",
      " \n",
      " lista de aproximaciones:[25.0, 22.5, 23.75, 24.375, 24.6875, 24.53125, 24.453125, 24.4921875, 24.51171875, 24.521484375, 24.5166015625, 24.51416015625, 24.512939453125]\n"
     ]
    }
   ],
   "source": [
    "mba,mbb,ErrMB,SolMB=MB(prlm,20,30,10.0**-6)\n",
    "print(f' lista de error:{ErrMB}\\n \\n lista de aproximaciones:{SolMB}')\n"
   ]
  },
  {
   "cell_type": "markdown",
   "metadata": {},
   "source": [
    "# Ejercicio 3: Método de la regla falsa.\n",
    "Realizar el trabajo del ejercicio 2, pero esta vez para el metodo de regla falsa."
   ]
  },
  {
   "cell_type": "markdown",
   "metadata": {},
   "source": [
    "para este metodo planteamos una recta secante a la funcion a solucionar, de forma que obteniendo el intercepto con el eje x de esta recta sera la siguiente aproximacion para la raiz de la funcion $f$ este intercepto $(c)$ tiene la siguiente expresion:\n",
    "\n",
    "$$c=b-f(b)\\frac{a-b}{f(a)-f(b)}$$"
   ]
  },
  {
   "cell_type": "code",
   "execution_count": 7,
   "metadata": {},
   "outputs": [],
   "source": [
    "def prlm(V): # reducimos los parametros de la ecuacion general\n",
    "    f=(1 + 3.592/(V**2))*(V-0.04267)-0.082054*300\n",
    "    return f"
   ]
  },
  {
   "cell_type": "code",
   "execution_count": 8,
   "metadata": {},
   "outputs": [],
   "source": [
    "# metodo de la regla falsa\n",
    "def RF(f,a,b,Tol): #la funcion de metodo de biseccion tiene como input una funcion f, un intervalo a,b y una tolerancia Tol\n",
    "    \n",
    "    tol_list=[]\n",
    "    it=0\n",
    "    sols=[a,b]\n",
    "    tol=np.abs(a-b)\n",
    "    x1,x2=a,b\n",
    "\n",
    "    while Tol<tol and it<100:\n",
    "        tol=np.abs(sols[it+1]-sols[it])\n",
    "        it+=1\n",
    "        tol_list.append(tol)\n",
    "\n",
    "        if f(a)*f(b)<0: #condicion para que el intervalo inicial contenga la solucion del sistema\n",
    "            x12=x2-f(x2)*((x1-x2)/(f(x1)-f(x2)))\n",
    "            y1,y2,y12=f(x1),f(x2),f(x12)\n",
    "            sols.append(x12)\n",
    "            if y1*y12<0:# condicion para que el punto medio contenga la solucion\n",
    "                x2=x12 # re evaluando los limites del bracket\n",
    "            else:\n",
    "                x1=x12\n",
    "        else:\n",
    "            print(f'La ecuacion no tiene solucion en el intervalo') \n",
    "            break\n",
    "    \n",
    "    return x1,x2,tol_list,sols"
   ]
  },
  {
   "cell_type": "code",
   "execution_count": 9,
   "metadata": {},
   "outputs": [
    {
     "name": "stdout",
     "output_type": "stream",
     "text": [
      " lista de error:[10, 5.493463625598903, 0.0060451352596970764, 6.611543561518829e-06, 7.229232323879842e-09]\n",
      " \n",
      " lista de aproximaciones:[20, 30, 24.506536374401097, 24.512581509660794, 24.512588121204356, 24.51258812843359, 24.512588128441493]\n"
     ]
    }
   ],
   "source": [
    "rfa,rfb,ErrRF,SolRF=RF(prlm,20,30,10.0**-6)\n",
    "print(f' lista de error:{ErrRF}\\n \\n lista de aproximaciones:{SolRF}')\n"
   ]
  },
  {
   "cell_type": "markdown",
   "metadata": {},
   "source": [
    "# Ejercicio 4: método de newton-Raphson."
   ]
  },
  {
   "cell_type": "markdown",
   "metadata": {},
   "source": [
    "El requirimiento princpal de este metodo es que debe ser diferenciable. en este caso solo necesitamos un punto de la funcion de forma tal que este cerca al punto de corte, en este punto planteamos una recta tangente al punto el intercepto de esta recta tangente sera nuestra nueva aproximacion de la solucion, de forma tal que esta nueva aproximacion tiene la forma:\n",
    "\n",
    "$$x_{n+1}=x_n-\\frac{f(x_n)}{f'(x_n)}$$"
   ]
  },
  {
   "cell_type": "code",
   "execution_count": 10,
   "metadata": {},
   "outputs": [],
   "source": [
    "def prlm(V): \n",
    "    f=(1 + 3.592/(V**2))*(V-0.04267)-0.082054*300\n",
    "    return f"
   ]
  },
  {
   "cell_type": "code",
   "execution_count": 11,
   "metadata": {},
   "outputs": [],
   "source": [
    "#definimos la derivada de la funcion problema\n",
    "def Dprlm(V):\n",
    "    f=1-(7.184*(-0.04267+V))/V**3+3.592/V**2\n",
    "    return f\n"
   ]
  },
  {
   "cell_type": "code",
   "execution_count": 12,
   "metadata": {},
   "outputs": [],
   "source": [
    "def NR(f,Df,x0,Err):\n",
    "    \n",
    "    Err_list=[]\n",
    "    it=0\n",
    "    sols=[0,x0]\n",
    "    err=np.abs(x0)\n",
    "    x1,x2=a,b\n",
    "\n",
    "    while Err<err and it<100:\n",
    "        err=np.abs(sols[it+1]-sols[it])\n",
    "        Err_list.append(err)\n",
    "        it+=1\n",
    "        x=sols[it]-(f(sols[it])/Df(sols[it]))\n",
    "        sols.append(x)\n",
    "\n",
    "    sols.remove(0)\n",
    "    del Err_list[0]\n",
    "    return x0,Err_list,sols"
   ]
  },
  {
   "cell_type": "code",
   "execution_count": 13,
   "metadata": {},
   "outputs": [
    {
     "name": "stdout",
     "output_type": "stream",
     "text": [
      " lista de error:[4.520070208559435, 0.007482066463666115, 1.3654268826712723e-08]\n",
      " \n",
      " lista de aproximaciones:[20, 24.520070208559435, 24.51258814209577, 24.5125881284415, 24.5125881284415]\n"
     ]
    }
   ],
   "source": [
    "nr0,ErrNR,SolNR=NR(prlm,Dprlm,20,10.0**-6)\n",
    "print(f' lista de error:{ErrNR}\\n \\n lista de aproximaciones:{SolNR}')"
   ]
  },
  {
   "cell_type": "markdown",
   "metadata": {},
   "source": [
    "# Ejercicio 5: método de la secante "
   ]
  },
  {
   "cell_type": "markdown",
   "metadata": {},
   "source": [
    "En este metodo encontramos una secante a la funcion y el intercepto de esta secante con el eje x sera una aproximacion de nuestra solucion. de forma que cada aproximacion tiene la forma: \n",
    "\n",
    "$$x_{n+1}=x_n-\\frac{f(x_n)(x_{n-1}-x_{n})}{f(x_{n-1})-f(x_n)}$$"
   ]
  },
  {
   "cell_type": "code",
   "execution_count": 14,
   "metadata": {},
   "outputs": [],
   "source": [
    "def SC(f,x0,x1,Err):\n",
    "    \n",
    "    Err_list=[]\n",
    "    it=0\n",
    "    sols=[x0,x1]\n",
    "    err=np.abs(x0-x1)\n",
    "    x1,x2=a,b\n",
    "\n",
    "    while Err<err and it<100:\n",
    "        err=np.abs(sols[it+1]-sols[it])\n",
    "        Err_list.append(err)\n",
    "        x=sols[it+1]-(f(sols[it+1])*(sols[it]-sols[it+1])/(f(sols[it])-f(sols[it+1])))\n",
    "        it+=1\n",
    "        sols.append(x)\n",
    "\n",
    "    \n",
    "    return x0,x1,Err_list,sols"
   ]
  },
  {
   "cell_type": "code",
   "execution_count": 15,
   "metadata": {},
   "outputs": [
    {
     "name": "stdout",
     "output_type": "stream",
     "text": [
      " lista de error:[7, 2.4904614451744003, 0.003047893315375916, 1.6803017750532945e-06, 1.2505552149377763e-12]\n",
      " \n",
      " lista de aproximaciones:[20, 27, 24.5095385548256, 24.512586448140976, 24.51258812844275, 24.5125881284415, 24.5125881284415]\n"
     ]
    }
   ],
   "source": [
    "sca,scb,ErrSc,SolSc=SC(prlm,20,27,10.0**-6)\n",
    "print(f' lista de error:{ErrSc}\\n \\n lista de aproximaciones:{SolSc}')"
   ]
  },
  {
   "cell_type": "markdown",
   "metadata": {},
   "source": [
    "# Ejercicio 6 comparación y analisis de resultados\n"
   ]
  },
  {
   "cell_type": "code",
   "execution_count": 16,
   "metadata": {},
   "outputs": [],
   "source": [
    "dicSol={'aproximacion Bisección': SolMB,\n",
    "     'aproximacion Regla Falsa': SolRF,\n",
    "     'aproximacion Newton-Raphson': SolNR,\n",
    "     'aproximacion Secante': SolSc,\n",
    "}\n",
    "\n",
    "soluciones=pd.DataFrame.from_dict(dicSol,orient='index').transpose()"
   ]
  },
  {
   "cell_type": "code",
   "execution_count": 20,
   "metadata": {},
   "outputs": [
    {
     "data": {
      "text/html": [
       "<div>\n",
       "<style scoped>\n",
       "    .dataframe tbody tr th:only-of-type {\n",
       "        vertical-align: middle;\n",
       "    }\n",
       "\n",
       "    .dataframe tbody tr th {\n",
       "        vertical-align: top;\n",
       "    }\n",
       "\n",
       "    .dataframe thead th {\n",
       "        text-align: right;\n",
       "    }\n",
       "</style>\n",
       "<table border=\"1\" class=\"dataframe\">\n",
       "  <thead>\n",
       "    <tr style=\"text-align: right;\">\n",
       "      <th></th>\n",
       "      <th>aproximacion Bisección</th>\n",
       "      <th>aproximacion Regla Falsa</th>\n",
       "      <th>aproximacion Newton-Raphson</th>\n",
       "      <th>aproximacion Secante</th>\n",
       "    </tr>\n",
       "  </thead>\n",
       "  <tbody>\n",
       "    <tr>\n",
       "      <th>0</th>\n",
       "      <td>25.000000</td>\n",
       "      <td>20.000000</td>\n",
       "      <td>20.000000</td>\n",
       "      <td>20.000000</td>\n",
       "    </tr>\n",
       "    <tr>\n",
       "      <th>1</th>\n",
       "      <td>22.500000</td>\n",
       "      <td>30.000000</td>\n",
       "      <td>24.520070</td>\n",
       "      <td>27.000000</td>\n",
       "    </tr>\n",
       "    <tr>\n",
       "      <th>2</th>\n",
       "      <td>23.750000</td>\n",
       "      <td>24.506536</td>\n",
       "      <td>24.512588</td>\n",
       "      <td>24.509539</td>\n",
       "    </tr>\n",
       "    <tr>\n",
       "      <th>3</th>\n",
       "      <td>24.375000</td>\n",
       "      <td>24.512582</td>\n",
       "      <td>24.512588</td>\n",
       "      <td>24.512586</td>\n",
       "    </tr>\n",
       "    <tr>\n",
       "      <th>4</th>\n",
       "      <td>24.687500</td>\n",
       "      <td>24.512588</td>\n",
       "      <td>24.512588</td>\n",
       "      <td>24.512588</td>\n",
       "    </tr>\n",
       "    <tr>\n",
       "      <th>5</th>\n",
       "      <td>24.531250</td>\n",
       "      <td>24.512588</td>\n",
       "      <td>NaN</td>\n",
       "      <td>24.512588</td>\n",
       "    </tr>\n",
       "    <tr>\n",
       "      <th>6</th>\n",
       "      <td>24.453125</td>\n",
       "      <td>24.512588</td>\n",
       "      <td>NaN</td>\n",
       "      <td>24.512588</td>\n",
       "    </tr>\n",
       "    <tr>\n",
       "      <th>7</th>\n",
       "      <td>24.492188</td>\n",
       "      <td>NaN</td>\n",
       "      <td>NaN</td>\n",
       "      <td>NaN</td>\n",
       "    </tr>\n",
       "    <tr>\n",
       "      <th>8</th>\n",
       "      <td>24.511719</td>\n",
       "      <td>NaN</td>\n",
       "      <td>NaN</td>\n",
       "      <td>NaN</td>\n",
       "    </tr>\n",
       "    <tr>\n",
       "      <th>9</th>\n",
       "      <td>24.521484</td>\n",
       "      <td>NaN</td>\n",
       "      <td>NaN</td>\n",
       "      <td>NaN</td>\n",
       "    </tr>\n",
       "    <tr>\n",
       "      <th>10</th>\n",
       "      <td>24.516602</td>\n",
       "      <td>NaN</td>\n",
       "      <td>NaN</td>\n",
       "      <td>NaN</td>\n",
       "    </tr>\n",
       "    <tr>\n",
       "      <th>11</th>\n",
       "      <td>24.514160</td>\n",
       "      <td>NaN</td>\n",
       "      <td>NaN</td>\n",
       "      <td>NaN</td>\n",
       "    </tr>\n",
       "    <tr>\n",
       "      <th>12</th>\n",
       "      <td>24.512939</td>\n",
       "      <td>NaN</td>\n",
       "      <td>NaN</td>\n",
       "      <td>NaN</td>\n",
       "    </tr>\n",
       "  </tbody>\n",
       "</table>\n",
       "</div>"
      ],
      "text/plain": [
       "    aproximacion Bisección  aproximacion Regla Falsa  \\\n",
       "0                25.000000                 20.000000   \n",
       "1                22.500000                 30.000000   \n",
       "2                23.750000                 24.506536   \n",
       "3                24.375000                 24.512582   \n",
       "4                24.687500                 24.512588   \n",
       "5                24.531250                 24.512588   \n",
       "6                24.453125                 24.512588   \n",
       "7                24.492188                       NaN   \n",
       "8                24.511719                       NaN   \n",
       "9                24.521484                       NaN   \n",
       "10               24.516602                       NaN   \n",
       "11               24.514160                       NaN   \n",
       "12               24.512939                       NaN   \n",
       "\n",
       "    aproximacion Newton-Raphson  aproximacion Secante  \n",
       "0                     20.000000             20.000000  \n",
       "1                     24.520070             27.000000  \n",
       "2                     24.512588             24.509539  \n",
       "3                     24.512588             24.512586  \n",
       "4                     24.512588             24.512588  \n",
       "5                           NaN             24.512588  \n",
       "6                           NaN             24.512588  \n",
       "7                           NaN                   NaN  \n",
       "8                           NaN                   NaN  \n",
       "9                           NaN                   NaN  \n",
       "10                          NaN                   NaN  \n",
       "11                          NaN                   NaN  \n",
       "12                          NaN                   NaN  "
      ]
     },
     "execution_count": 20,
     "metadata": {},
     "output_type": "execute_result"
    }
   ],
   "source": [
    "soluciones"
   ]
  },
  {
   "cell_type": "code",
   "execution_count": 21,
   "metadata": {},
   "outputs": [
    {
     "data": {
      "text/plain": [
       "<AxesSubplot:title={'center':'Convergencia de aproximacion'}, xlabel='Iteraciones', ylabel='aproximación'>"
      ]
     },
     "execution_count": 21,
     "metadata": {},
     "output_type": "execute_result"
    },
    {
     "data": {
      "image/png": "[encoded data removed]",
      "text/plain": [
       "<Figure size 864x576 with 1 Axes>"
      ]
     },
     "metadata": {
      "needs_background": "light"
     },
     "output_type": "display_data"
    }
   ],
   "source": [
    "soluciones.plot(style='o-', figsize=(12,8), lw=4, title='Convergencia de aproximacion', xlabel='Iteraciones', ylabel='aproximación')"
   ]
  },
  {
   "cell_type": "code",
   "execution_count": 18,
   "metadata": {},
   "outputs": [],
   "source": [
    "dicErr={'Error Bisección': ErrMB,\n",
    "     'Error Regla Falsa': ErrRF,\n",
    "     'Error Newton-Raphson': ErrNR,\n",
    "     'Error Secante': ErrSc,\n",
    "}\n",
    "\n",
    "errores=pd.DataFrame.from_dict(dicErr,orient='index').transpose()"
   ]
  },
  {
   "cell_type": "code",
   "execution_count": 22,
   "metadata": {},
   "outputs": [
    {
     "data": {
      "text/html": [
       "<div>\n",
       "<style scoped>\n",
       "    .dataframe tbody tr th:only-of-type {\n",
       "        vertical-align: middle;\n",
       "    }\n",
       "\n",
       "    .dataframe tbody tr th {\n",
       "        vertical-align: top;\n",
       "    }\n",
       "\n",
       "    .dataframe thead th {\n",
       "        text-align: right;\n",
       "    }\n",
       "</style>\n",
       "<table border=\"1\" class=\"dataframe\">\n",
       "  <thead>\n",
       "    <tr style=\"text-align: right;\">\n",
       "      <th></th>\n",
       "      <th>Error Bisección</th>\n",
       "      <th>Error Regla Falsa</th>\n",
       "      <th>Error Newton-Raphson</th>\n",
       "      <th>Error Secante</th>\n",
       "    </tr>\n",
       "  </thead>\n",
       "  <tbody>\n",
       "    <tr>\n",
       "      <th>0</th>\n",
       "      <td>5.000000e+00</td>\n",
       "      <td>1.000000e+01</td>\n",
       "      <td>4.520070e+00</td>\n",
       "      <td>7.000000e+00</td>\n",
       "    </tr>\n",
       "    <tr>\n",
       "      <th>1</th>\n",
       "      <td>1.250000e+00</td>\n",
       "      <td>5.493464e+00</td>\n",
       "      <td>7.482066e-03</td>\n",
       "      <td>2.490461e+00</td>\n",
       "    </tr>\n",
       "    <tr>\n",
       "      <th>2</th>\n",
       "      <td>3.125000e-01</td>\n",
       "      <td>6.045135e-03</td>\n",
       "      <td>1.365427e-08</td>\n",
       "      <td>3.047893e-03</td>\n",
       "    </tr>\n",
       "    <tr>\n",
       "      <th>3</th>\n",
       "      <td>7.812500e-02</td>\n",
       "      <td>6.611544e-06</td>\n",
       "      <td>NaN</td>\n",
       "      <td>1.680302e-06</td>\n",
       "    </tr>\n",
       "    <tr>\n",
       "      <th>4</th>\n",
       "      <td>1.953125e-02</td>\n",
       "      <td>7.229232e-09</td>\n",
       "      <td>NaN</td>\n",
       "      <td>1.250555e-12</td>\n",
       "    </tr>\n",
       "    <tr>\n",
       "      <th>5</th>\n",
       "      <td>4.882812e-03</td>\n",
       "      <td>NaN</td>\n",
       "      <td>NaN</td>\n",
       "      <td>NaN</td>\n",
       "    </tr>\n",
       "    <tr>\n",
       "      <th>6</th>\n",
       "      <td>1.220703e-03</td>\n",
       "      <td>NaN</td>\n",
       "      <td>NaN</td>\n",
       "      <td>NaN</td>\n",
       "    </tr>\n",
       "    <tr>\n",
       "      <th>7</th>\n",
       "      <td>3.051758e-04</td>\n",
       "      <td>NaN</td>\n",
       "      <td>NaN</td>\n",
       "      <td>NaN</td>\n",
       "    </tr>\n",
       "    <tr>\n",
       "      <th>8</th>\n",
       "      <td>7.629395e-05</td>\n",
       "      <td>NaN</td>\n",
       "      <td>NaN</td>\n",
       "      <td>NaN</td>\n",
       "    </tr>\n",
       "    <tr>\n",
       "      <th>9</th>\n",
       "      <td>1.907349e-05</td>\n",
       "      <td>NaN</td>\n",
       "      <td>NaN</td>\n",
       "      <td>NaN</td>\n",
       "    </tr>\n",
       "    <tr>\n",
       "      <th>10</th>\n",
       "      <td>4.768372e-06</td>\n",
       "      <td>NaN</td>\n",
       "      <td>NaN</td>\n",
       "      <td>NaN</td>\n",
       "    </tr>\n",
       "    <tr>\n",
       "      <th>11</th>\n",
       "      <td>1.192093e-06</td>\n",
       "      <td>NaN</td>\n",
       "      <td>NaN</td>\n",
       "      <td>NaN</td>\n",
       "    </tr>\n",
       "    <tr>\n",
       "      <th>12</th>\n",
       "      <td>2.980232e-07</td>\n",
       "      <td>NaN</td>\n",
       "      <td>NaN</td>\n",
       "      <td>NaN</td>\n",
       "    </tr>\n",
       "  </tbody>\n",
       "</table>\n",
       "</div>"
      ],
      "text/plain": [
       "    Error Bisección  Error Regla Falsa  Error Newton-Raphson  Error Secante\n",
       "0      5.000000e+00       1.000000e+01          4.520070e+00   7.000000e+00\n",
       "1      1.250000e+00       5.493464e+00          7.482066e-03   2.490461e+00\n",
       "2      3.125000e-01       6.045135e-03          1.365427e-08   3.047893e-03\n",
       "3      7.812500e-02       6.611544e-06                   NaN   1.680302e-06\n",
       "4      1.953125e-02       7.229232e-09                   NaN   1.250555e-12\n",
       "5      4.882812e-03                NaN                   NaN            NaN\n",
       "6      1.220703e-03                NaN                   NaN            NaN\n",
       "7      3.051758e-04                NaN                   NaN            NaN\n",
       "8      7.629395e-05                NaN                   NaN            NaN\n",
       "9      1.907349e-05                NaN                   NaN            NaN\n",
       "10     4.768372e-06                NaN                   NaN            NaN\n",
       "11     1.192093e-06                NaN                   NaN            NaN\n",
       "12     2.980232e-07                NaN                   NaN            NaN"
      ]
     },
     "execution_count": 22,
     "metadata": {},
     "output_type": "execute_result"
    }
   ],
   "source": [
    "errores"
   ]
  },
  {
   "cell_type": "code",
   "execution_count": 23,
   "metadata": {},
   "outputs": [
    {
     "data": {
      "text/plain": [
       "<AxesSubplot:title={'center':'Convergencia de error'}, xlabel='Iteraciones', ylabel='Error absoluto'>"
      ]
     },
     "execution_count": 23,
     "metadata": {},
     "output_type": "execute_result"
    },
    {
     "data": {
      "image/png": "[encoded data removed]",
      "text/plain": [
       "<Figure size 864x576 with 1 Axes>"
      ]
     },
     "metadata": {
      "needs_background": "light"
     },
     "output_type": "display_data"
    }
   ],
   "source": [
    "errores.plot(style='o-', figsize=(12,8), lw=4, title='Convergencia de error', xlabel='Iteraciones', ylabel='Error absoluto')"
   ]
  },
  {
   "cell_type": "markdown",
   "metadata": {},
   "source": [
    "# Conclusiones"
   ]
  },
  {
   "cell_type": "markdown",
   "metadata": {},
   "source": [
    "Es apreciable en los graficos como el metodo de newton-raphson converge con mayor rapidez, es decir en un numero menor de itraciones. pero es importante destacar la limitacion de este metodo a conocer la derivada de la funcion a solucionar. este hecho no se presenta en los otros metodos, que puede ser que tengan un uso mas apropiado en ciertas ocasiones.\n",
    "\n",
    "los diversos metodos de soluciones de ecuaciones no lineales se centran en encontrar el intercepto de la funcion incognita y esto se realiza acotando un intervalo o un valor inicial que este cercano a este punto.\n",
    "\n",
    "Los métodos de Bisección y Regla Falsa requieren determinar cambios de signo de la función usando el teorema de valor intermedio, en ciertos intervalos o determinar en que subintervalo se encuentra la raíz, mientras que los métodos de Newton-Raphson y Secante no lo requieren.\n",
    "\n",
    "La convergencia de cada uno de los métodos, depende de la función y los puntos iniciales con los que se cuenta, ya que estos son parte fundamental de cada metodo para resolver la ecuacion. "
   ]
  },
  {
   "cell_type": "markdown",
   "metadata": {},
   "source": [
    "# Referencias\n",
    "[1] Heath, M. T. (2018). Scientific computing: an introductory survey, revised second edition. Society for Industrial and Applied Mathematics."
   ]
  }
 ],
 "metadata": {
  "kernelspec": {
   "display_name": "Python 3.10.5 64-bit",
   "language": "python",
   "name": "python3"
  },
  "language_info": {
   "codemirror_mode": {
    "name": "ipython",
    "version": 3
   },
   "file_extension": ".py",
   "mimetype": "text/x-python",
   "name": "python",
   "nbconvert_exporter": "python",
   "pygments_lexer": "ipython3",
   "version": "3.10.5"
  },
  "orig_nbformat": 4,
  "vscode": {
   "interpreter": {
    "hash": "e8a00227fbbeabfee3e4c7eae78ea7efab3aaaa5b33f3ff28071daefabaeab66"
   }
  }
 },
 "nbformat": 4,
 "nbformat_minor": 2
}
