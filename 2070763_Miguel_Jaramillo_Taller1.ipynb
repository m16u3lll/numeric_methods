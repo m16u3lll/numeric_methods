{
  "nbformat": 4,
  "nbformat_minor": 0,
  "metadata": {
    "colab": {
      "name": "2070763-Miguel Jaramillo-Taller1.ipynb",
      "provenance": [],
      "collapsed_sections": []
    },
    "kernelspec": {
      "name": "python3",
      "display_name": "Python 3"
    },
    "language_info": {
      "name": "python"
    }
  },
  "cells": [
    {
      "cell_type": "markdown",
      "source": [
        "#Limite y calculo de errores de computo y errores de propagación\n",
        "## Taller 1 Métodos numéricos\n",
        "\n",
        "Miguel Ángel Jaramillo Quenguan \n",
        "\n",
        "Universidad del Valle\n",
        "\n",
        "\n",
        "Mayo 5 de 2022\n",
        "\n",
        "presentado a Miguel Angel Vargas Valencia.\n",
        "\n",
        "curso de metodos Numericos "
      ],
      "metadata": {
        "id": "apD84daqnuMr"
      }
    },
    {
      "cell_type": "markdown",
      "source": [
        "\n",
        "\n",
        "------\n",
        "\n",
        "\n",
        "### Punto 1\n",
        "Escribe un programa en Python para calcular la constante matemática e, a\n",
        "partir de la denición\n",
        "\n",
        "$$e=\\lim_{n\\to \\infty}(1+\\frac{1}{n}),$$\n",
        "\n",
        "es decir, calcula $(1+\\frac{1}{n})^n$ para $n=10^k\n",
        ", k = 1, 2, ..., 20$. Determina el error en tus aproximaciones comparándolas con exp(1) (usa la función exp de Numpy), genera un gráfico para visualizar los resultados. (Comenta y análisa tus resul-\n",
        "tados.)"
      ],
      "metadata": {
        "id": "9rksWxiWqb3B"
      }
    },
    {
      "cell_type": "code",
      "source": [
        "#calculando e mediante definicion en limite\n",
        "import numpy as np\n",
        "import matplotlib.pyplot as plt\n",
        "import seaborn as sns\n",
        "\n",
        "sns.set_theme(style=\"darkgrid\")\n",
        "\n",
        "n_list=[]\n",
        "for k in range(1,20):\n",
        "  a=10**k\n",
        "  n_list.append(a)\n",
        "\n",
        "print(f'lista de n {n_list}')\n",
        "\n",
        "\n",
        "e_list=[]\n",
        "\n",
        "for n in n_list:\n",
        "  e=(1+1/n)**n\n",
        "  e_list.append(e)\n",
        "\n",
        "print(f'lista de e aproximado {e_list}\\n')\n",
        "\n",
        "ee_list=[]#lista de error de e respecto a e de la libreria numpy\n",
        "\n",
        "for e in e_list:\n",
        "  error=np.abs(np.e-e)\n",
        "  ee_list.append(error)\n",
        "\n",
        "print(f'lista de error{ee_list}')\n",
        "\n",
        "\n",
        "#graficando e aproximado\n",
        "x=[]\n",
        "for i in range (1,20):\n",
        "  x.append(i)\n",
        "\n",
        "nlog_list=[]\n",
        "for k in n_list:\n",
        "  j=np.log10(k)\n",
        "  nlog_list.append(j)\n",
        "  \n",
        "\n",
        "plt.title('aproximacion del valor e')\n",
        "plt.xlabel('n')\n",
        "plt.ylabel('e value')\n",
        "plt.semilogx(n_list,e_list,'bo')\n",
        "#plt.plot(e_list,'bo')\n",
        "plt.show()\n",
        "\n",
        "\n",
        "plt.title('error')\n",
        "plt.xlabel('n')\n",
        "plt.ylabel('e error')\n",
        "plt.loglog(n_list,ee_list,'ro-')\n",
        "plt.show()\n"
      ],
      "metadata": {
        "colab": {
          "base_uri": "https://localhost:8080/",
          "height": 686
        },
        "id": "IpRmqPoEswFI",
        "outputId": "36cc5206-c7b9-440b-aba9-61479e1bc382"
      },
      "execution_count": null,
      "outputs": [
        {
          "output_type": "stream",
          "name": "stdout",
          "text": [
            "lista de n [10, 100, 1000, 10000, 100000, 1000000, 10000000, 100000000, 1000000000, 10000000000, 100000000000, 1000000000000, 10000000000000, 100000000000000, 1000000000000000, 10000000000000000, 100000000000000000, 1000000000000000000, 10000000000000000000]\n",
            "lista de e aproximado [2.5937424601000023, 2.7048138294215285, 2.7169239322355936, 2.7181459268249255, 2.7182682371922975, 2.7182804690957534, 2.7182816941320818, 2.7182817983473577, 2.7182820520115603, 2.7182820532347876, 2.71828205335711, 2.7185234960372378, 2.716110034086901, 2.716110034087023, 3.035035206549262, 1.0, 1.0, 1.0, 1.0]\n",
            "\n",
            "lista de error[0.12453936835904278, 0.01346799903751661, 0.0013578962234515046, 0.000135901634119584, 1.359126674760347e-05, 1.359363291708604e-06, 1.3432696333026684e-07, 3.011168736577474e-08, 2.2355251516614771e-07, 2.2477574246337895e-07, 2.248980650598753e-07, 0.00024166757819266138, 0.002171794372144209, 0.0021717943720220845, 0.31675337809021675, 1.718281828459045, 1.718281828459045, 1.718281828459045, 1.718281828459045]\n"
          ]
        },
        {
          "output_type": "display_data",
          "data": {
            "text/plain": [
              "<Figure size 432x288 with 1 Axes>"
            ],
            "image/png": "[encoded data removed]"
          },
          "metadata": {}
        },
        {
          "output_type": "display_data",
          "data": {
            "text/plain": [
              "<Figure size 432x288 with 1 Axes>"
            ],
            "image/png": "[encoded data removed]"
          },
          "metadata": {}
        }
      ]
    },
    {
      "cell_type": "markdown",
      "source": [
        "# Analizando el punto 1\n",
        "\n",
        "debido que la maquina no es capaz de manejar un numero infinito de decimales estamos limitados a la cantidad que se puede representar en la mantiza en un determinado tamaño de palabra. por este metivo luego de llegar a este limite el valor aproximado de e falla y la maquina un valor de 1.\n",
        "\n",
        "tambien es apreciable que el valor de error respecto al numero e en el paquete numpy es variable esto debido a la distribucion de numeros de punto flotante que se realiza tambien debido a la limitacion del tamaño de palabra.\n"
      ],
      "metadata": {
        "id": "RnUX6JBmY9e_"
      }
    },
    {
      "cell_type": "markdown",
      "source": [
        "### Punto 2\n",
        "Supongase que quieres calcular $n + 1$ puntos equiespaciados en el intervalo$  [a, b]$,\n",
        "con espacio $h=\\frac{b − a}{n}$\n",
        "\n",
        "a) Usando aritmética de punto otante, cual de los siguientes dos métodos:\n",
        "\n",
        "Método 1:\n",
        "\n",
        "$$x_0 = a, x_k = x_{k−1} + h, k = 1, 2, ..., n$$\n",
        "\n",
        "Método 2:\n",
        "\n",
        "$$x_k = a + kh, k = 0, 1, ..., n$$\n",
        "\n",
        "es más preciso y por qué?\n",
        "\n",
        "b) Implementa ambos métodos con a = 0 y b = 1 para ilustrar la diferencia,\n",
        "calcula las diferencias absolutas entre cada elemento de los espaciamientos\n",
        "y genera un gráco que permita visualizarlas. (Comenta y análisa tus\n",
        "resultados.)\n"
      ],
      "metadata": {
        "id": "quwKTM0m6M3u"
      }
    },
    {
      "cell_type": "code",
      "source": [
        "# sumas iteradas\n",
        "a=0\n",
        "b=1\n",
        "n=100\n",
        "h=(b-a)/n\n",
        "print(f'valor de h:{h}')\n",
        "\n",
        "#metodo 1\n",
        "list_sum1=[]\n",
        "z=a\n",
        "for k in range(n+1):\n",
        "  list_sum1.append(z)\n",
        "  z=z+h\n",
        "print(f'lista de sumas desde a sumando h {list_sum1}')\n",
        "\n",
        "\n",
        "\n",
        "#metodo 2\n",
        "list_sum2=[]\n",
        "w=a\n",
        "c=a\n",
        "for k in range(n+1): \n",
        "  w=c+k*h\n",
        "  list_sum2.append(w) \n",
        "print(f'lista de sumas desde a sumando k por h {list_sum2}')\n",
        "\n",
        "#diferencias\n",
        "error_list=[]\n",
        "\n",
        "for i in range(n):\n",
        "  error=np.abs(list_sum1[i]-list_sum2[i])\n",
        "  error_list.append(error)\n",
        "print(f'lista de errores{error_list}')\n",
        "#error_list.remove(0)\n",
        "\n",
        "#plt.ylim(-0.040,0.040)\n",
        "plt.plot(error_list,'bo-') \n",
        "plt.show()\n",
        "\n",
        "  #revizar el rango de los arrglos n o n+1"
      ],
      "metadata": {
        "colab": {
          "base_uri": "https://localhost:8080/",
          "height": 369
        },
        "id": "PEsTdRpc71n-",
        "outputId": "b2475d39-1af1-4d4c-87eb-2a1d14a4709a"
      },
      "execution_count": null,
      "outputs": [
        {
          "output_type": "stream",
          "name": "stdout",
          "text": [
            "valor de h:0.01\n",
            "lista de sumas desde a sumando h [0, 0.01, 0.02, 0.03, 0.04, 0.05, 0.060000000000000005, 0.07, 0.08, 0.09, 0.09999999999999999, 0.10999999999999999, 0.11999999999999998, 0.12999999999999998, 0.13999999999999999, 0.15, 0.16, 0.17, 0.18000000000000002, 0.19000000000000003, 0.20000000000000004, 0.21000000000000005, 0.22000000000000006, 0.23000000000000007, 0.24000000000000007, 0.25000000000000006, 0.26000000000000006, 0.2700000000000001, 0.2800000000000001, 0.2900000000000001, 0.3000000000000001, 0.3100000000000001, 0.3200000000000001, 0.3300000000000001, 0.34000000000000014, 0.35000000000000014, 0.36000000000000015, 0.37000000000000016, 0.38000000000000017, 0.3900000000000002, 0.4000000000000002, 0.4100000000000002, 0.4200000000000002, 0.4300000000000002, 0.4400000000000002, 0.45000000000000023, 0.46000000000000024, 0.47000000000000025, 0.48000000000000026, 0.49000000000000027, 0.5000000000000002, 0.5100000000000002, 0.5200000000000002, 0.5300000000000002, 0.5400000000000003, 0.5500000000000003, 0.5600000000000003, 0.5700000000000003, 0.5800000000000003, 0.5900000000000003, 0.6000000000000003, 0.6100000000000003, 0.6200000000000003, 0.6300000000000003, 0.6400000000000003, 0.6500000000000004, 0.6600000000000004, 0.6700000000000004, 0.6800000000000004, 0.6900000000000004, 0.7000000000000004, 0.7100000000000004, 0.7200000000000004, 0.7300000000000004, 0.7400000000000004, 0.7500000000000004, 0.7600000000000005, 0.7700000000000005, 0.7800000000000005, 0.7900000000000005, 0.8000000000000005, 0.8100000000000005, 0.8200000000000005, 0.8300000000000005, 0.8400000000000005, 0.8500000000000005, 0.8600000000000005, 0.8700000000000006, 0.8800000000000006, 0.8900000000000006, 0.9000000000000006, 0.9100000000000006, 0.9200000000000006, 0.9300000000000006, 0.9400000000000006, 0.9500000000000006, 0.9600000000000006, 0.9700000000000006, 0.9800000000000006, 0.9900000000000007, 1.0000000000000007]\n",
            "lista de sumas desde a sumando k por h [0.0, 0.01, 0.02, 0.03, 0.04, 0.05, 0.06, 0.07, 0.08, 0.09, 0.1, 0.11, 0.12, 0.13, 0.14, 0.15, 0.16, 0.17, 0.18, 0.19, 0.2, 0.21, 0.22, 0.23, 0.24, 0.25, 0.26, 0.27, 0.28, 0.29, 0.3, 0.31, 0.32, 0.33, 0.34, 0.35000000000000003, 0.36, 0.37, 0.38, 0.39, 0.4, 0.41000000000000003, 0.42, 0.43, 0.44, 0.45, 0.46, 0.47000000000000003, 0.48, 0.49, 0.5, 0.51, 0.52, 0.53, 0.54, 0.55, 0.56, 0.5700000000000001, 0.58, 0.59, 0.6, 0.61, 0.62, 0.63, 0.64, 0.65, 0.66, 0.67, 0.68, 0.6900000000000001, 0.7000000000000001, 0.71, 0.72, 0.73, 0.74, 0.75, 0.76, 0.77, 0.78, 0.79, 0.8, 0.81, 0.8200000000000001, 0.8300000000000001, 0.84, 0.85, 0.86, 0.87, 0.88, 0.89, 0.9, 0.91, 0.92, 0.93, 0.9400000000000001, 0.9500000000000001, 0.96, 0.97, 0.98, 0.99, 1.0]\n",
            "lista de errores[0.0, 0.0, 0.0, 0.0, 0.0, 0.0, 6.938893903907228e-18, 0.0, 0.0, 0.0, 1.3877787807814457e-17, 1.3877787807814457e-17, 1.3877787807814457e-17, 2.7755575615628914e-17, 2.7755575615628914e-17, 0.0, 0.0, 0.0, 2.7755575615628914e-17, 2.7755575615628914e-17, 2.7755575615628914e-17, 5.551115123125783e-17, 5.551115123125783e-17, 5.551115123125783e-17, 8.326672684688674e-17, 5.551115123125783e-17, 5.551115123125783e-17, 5.551115123125783e-17, 5.551115123125783e-17, 1.1102230246251565e-16, 1.1102230246251565e-16, 1.1102230246251565e-16, 1.1102230246251565e-16, 1.1102230246251565e-16, 1.1102230246251565e-16, 1.1102230246251565e-16, 1.6653345369377348e-16, 1.6653345369377348e-16, 1.6653345369377348e-16, 1.6653345369377348e-16, 1.6653345369377348e-16, 1.6653345369377348e-16, 2.220446049250313e-16, 2.220446049250313e-16, 2.220446049250313e-16, 2.220446049250313e-16, 2.220446049250313e-16, 2.220446049250313e-16, 2.7755575615628914e-16, 2.7755575615628914e-16, 2.220446049250313e-16, 2.220446049250313e-16, 2.220446049250313e-16, 2.220446049250313e-16, 2.220446049250313e-16, 2.220446049250313e-16, 2.220446049250313e-16, 2.220446049250313e-16, 3.3306690738754696e-16, 3.3306690738754696e-16, 3.3306690738754696e-16, 3.3306690738754696e-16, 3.3306690738754696e-16, 3.3306690738754696e-16, 3.3306690738754696e-16, 3.3306690738754696e-16, 3.3306690738754696e-16, 3.3306690738754696e-16, 3.3306690738754696e-16, 3.3306690738754696e-16, 3.3306690738754696e-16, 4.440892098500626e-16, 4.440892098500626e-16, 4.440892098500626e-16, 4.440892098500626e-16, 4.440892098500626e-16, 4.440892098500626e-16, 4.440892098500626e-16, 4.440892098500626e-16, 4.440892098500626e-16, 4.440892098500626e-16, 4.440892098500626e-16, 4.440892098500626e-16, 4.440892098500626e-16, 5.551115123125783e-16, 5.551115123125783e-16, 5.551115123125783e-16, 5.551115123125783e-16, 5.551115123125783e-16, 5.551115123125783e-16, 5.551115123125783e-16, 5.551115123125783e-16, 5.551115123125783e-16, 5.551115123125783e-16, 5.551115123125783e-16, 5.551115123125783e-16, 6.661338147750939e-16, 6.661338147750939e-16, 6.661338147750939e-16, 6.661338147750939e-16]\n"
          ]
        },
        {
          "output_type": "display_data",
          "data": {
            "text/plain": [
              "<Figure size 432x288 with 1 Axes>"
            ],
            "image/png": "[encoded data removed]"
          },
          "metadata": {}
        }
      ]
    },
    {
      "cell_type": "markdown",
      "source": [
        "# Analizando el punto 2\n",
        "\n",
        "la suma no es asociativa debido a la limitada por el tamaño de palabra no puedo sumar un numero menor al epsilon de maquina. \n",
        "\n"
      ],
      "metadata": {
        "id": "t8nuCP4baKcE"
      }
    },
    {
      "cell_type": "markdown",
      "source": [
        "implicaciones de dividir por un numero muy pequeño\n"
      ],
      "metadata": {
        "id": "exoH7AxE-gCE"
      }
    },
    {
      "cell_type": "markdown",
      "source": [
        "### Punto 3 \n",
        "\n",
        "Escribe un programa que calcule el valor aproximado de la derivada de una función usando diferencias finitas.\n",
        "\n",
        "$$\\frac{f(x+h)-f(x)}{h}.$$\n",
        "\n",
        "Prueba tu programa usando la función $\\sin{x}$ con $x=1$. determina el error comparando con la funcion $\\cos{x}$. Haz una gráfica del error como función de h, con $h=10^k,k=-17,-16,⋯,0,1,2$"
      ],
      "metadata": {
        "id": "Txq2XbBbVSNN"
      }
    },
    {
      "cell_type": "code",
      "source": [
        "#calculando la derivada numericamente de la funcion sin en x=1 \n",
        "\n",
        "# creando una lista para los valores de h=10^K con K en [-17,2]\n",
        "list_ks=[]\n",
        "ks=-17\n",
        "for m in range(20):\n",
        "  list_ks.append(ks)\n",
        "  ks=ks+1\n",
        "print(list_ks)\n",
        "D_apprx=[]\n",
        "for k in list_ks:\n",
        "  dx=(np.sin(1+10**k)-np.sin(1))/10**k\n",
        "  D_apprx.append(dx)\n",
        "\n",
        "print(f'aproximacion de derivadas: {D_apprx}')\n",
        "\n",
        "#calculando error desde la funcion np.cos()\n",
        "err=np.abs(D_apprx-np.cos(1))\n",
        "print(f'lista de error para cada k:{err}')\n",
        "\n",
        "list_hs=[]\n",
        "for k in list_ks:\n",
        "  list_hs.append(10**k)\n",
        "\n",
        "plt.title('Error derivada numerica de sin(x) en x=1')\n",
        "plt.loglog(list_hs,err,'bo')\n",
        "plt.xlabel('valor de h')\n",
        "plt.ylabel('error absoluto')\n"
      ],
      "metadata": {
        "colab": {
          "base_uri": "https://localhost:8080/",
          "height": 466
        },
        "id": "XluWWIr6Xk69",
        "outputId": "e47b8c69-966a-4672-f196-199a64c5f1f7"
      },
      "execution_count": null,
      "outputs": [
        {
          "output_type": "stream",
          "name": "stdout",
          "text": [
            "[-17, -16, -15, -14, -13, -12, -11, -10, -9, -8, -7, -6, -5, -4, -3, -2, -1, 0, 1, 2]\n",
            "aproximacion de derivadas: [0.0, 0.0, 0.5551115123125783, 0.5440092820663267, 0.5395683899678261, 0.5403455460850637, 0.5403011371640787, 0.5403022473871033, 0.5403023584094058, 0.5403023028982545, 0.5403022640404487, 0.5403018851213304, 0.5402980985058647, 0.5402602314186211, 0.5398814803603269, 0.536085981011869, 0.4973637525353891, 0.0678264420177852, -0.18414611913586, -0.0038944519762954596]\n",
            "lista de error para cada k:[5.40302306e-01 5.40302306e-01 1.48092064e-02 3.70697620e-03\n",
            " 7.33915900e-04 4.32402169e-05 1.16870406e-06 5.84810365e-08\n",
            " 5.25412660e-08 2.96988523e-09 4.18276911e-08 4.20746809e-07\n",
            " 4.20736228e-06 4.20744495e-05 4.20825508e-04 4.21632486e-03\n",
            " 4.29385533e-02 4.72475864e-01 7.24448425e-01 5.44196758e-01]\n"
          ]
        },
        {
          "output_type": "execute_result",
          "data": {
            "text/plain": [
              "Text(0, 0.5, 'error absoluto')"
            ]
          },
          "metadata": {},
          "execution_count": 35
        },
        {
          "output_type": "display_data",
          "data": {
            "text/plain": [
              "<Figure size 432x288 with 1 Axes>"
            ],
            "image/png": "[encoded data removed]"
          },
          "metadata": {}
        }
      ]
    },
    {
      "cell_type": "markdown",
      "source": [
        "# Analizando el punto 3\n",
        "\n",
        "El error para un valor de 10^-8 es el menor esto debido a que si escojemos un valor de h menor a lo que nos lo permita la maquina esta no nos calculara la mejor aproximacion esto debido a las limitaciones del tamaño de palabra.\n",
        "\n",
        "\n"
      ],
      "metadata": {
        "id": "HCnNnHlXaUvk"
      }
    },
    {
      "cell_type": "markdown",
      "source": [
        "# Referencias\n",
        "\n",
        "* Pajankar, A. (2017). Introduction to NumPy. In Raspberry Pi Supercomputing and Scientific Programming (pp. 109-128). Apress, Berkeley, CA.\n",
        "\n",
        "* Muqri, M. R., Wilson, E. J., & Shakib, J. (2015, June). A Taste of Python–Discrete and Fast Fourier Transforms. In 2015 ASEE Annual Conference & Exposition (pp. 26-123).\n",
        "\n",
        "* Bisong, E. (2019). Matplotlib and Seaborn. In Building machine learning and deep learning models on google cloud platform (pp. 151-165). Apress, Berkeley, CA.\n",
        "\n"
      ],
      "metadata": {
        "id": "2s6TeIm0muT_"
      }
    }
  ]
}